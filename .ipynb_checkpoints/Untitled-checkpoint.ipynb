{
 "cells": [
  {
   "cell_type": "markdown",
   "id": "aggressive-employment",
   "metadata": {},
   "source": [
    "# temp"
   ]
  },
  {
   "cell_type": "markdown",
   "id": "structural-dynamics",
   "metadata": {},
   "source": [
    "## 2. Инициализирцем MinMaxScaler и зафиксируем случайные числа"
   ]
  },
  {
   "cell_type": "code",
   "execution_count": null,
   "id": "endangered-third",
   "metadata": {},
   "outputs": [],
   "source": [
    "scaler = MinMaxScaler()"
   ]
  },
  {
   "cell_type": "code",
   "execution_count": null,
   "id": "coordinate-threshold",
   "metadata": {},
   "outputs": [],
   "source": [
    "np.random.seed(42)"
   ]
  },
  {
   "cell_type": "markdown",
   "id": "consolidated-promise",
   "metadata": {},
   "source": [
    "## 3. Прочитаем и подготовим данные для модели"
   ]
  },
  {
   "cell_type": "code",
   "execution_count": null,
   "id": "first-aging",
   "metadata": {},
   "outputs": [],
   "source": [
    "df_train = pd.read_csv('train.csv', delimiter=';', parse_dates=True)\n",
    "train_set = df_train[['open']].values\n",
    "scaled_train_set = scaler.fit_transform(train_set)"
   ]
  },
  {
   "cell_type": "code",
   "execution_count": null,
   "id": "official-laser",
   "metadata": {},
   "outputs": [],
   "source": [
    "x_train = []\n",
    "y_train = []"
   ]
  },
  {
   "cell_type": "code",
   "execution_count": null,
   "id": "complex-trustee",
   "metadata": {},
   "outputs": [],
   "source": [
    "length = len(scaled_train_set) - 1"
   ]
  },
  {
   "cell_type": "code",
   "execution_count": null,
   "id": "foster-surface",
   "metadata": {},
   "outputs": [],
   "source": [
    "for i in range(120, length):\n",
    "    x_train.append(scaled_train_set[i-120:i, 0])\n",
    "    y_train.append(scaled_train_set[i, 0])\n",
    "x_train, y_train = np.array(x_train), np.array(y_train)"
   ]
  },
  {
   "cell_type": "code",
   "execution_count": null,
   "id": "developing-accuracy",
   "metadata": {},
   "outputs": [],
   "source": [
    "x_train = np.reshape(x_train, (x_train.shape[0], x_train.shape[1], 1))"
   ]
  },
  {
   "cell_type": "markdown",
   "id": "sunset-cologne",
   "metadata": {},
   "source": [
    "## 4. Соберем и обучим нейросеть"
   ]
  },
  {
   "cell_type": "code",
   "execution_count": null,
   "id": "caring-sustainability",
   "metadata": {},
   "outputs": [],
   "source": [
    "adam = optimizers.Adam(learning_rate=0.0001)"
   ]
  },
  {
   "cell_type": "code",
   "execution_count": null,
   "id": "accredited-russia",
   "metadata": {},
   "outputs": [],
   "source": [
    "early_stopping_monitor = EarlyStopping(patience=10)"
   ]
  },
  {
   "cell_type": "code",
   "execution_count": null,
   "id": "beginning-benjamin",
   "metadata": {},
   "outputs": [],
   "source": [
    "model_checkpoint = ModelCheckpoint('model.hdf5', monitor='val_loss', verbose=1, save_best_only=True)"
   ]
  },
  {
   "cell_type": "code",
   "execution_count": null,
   "id": "occasional-posting",
   "metadata": {},
   "outputs": [],
   "source": [
    "model = Sequential()\n",
    "model.add(LSTM(units=50, return_sequences=True, input_shape=(x_train.shape[1], 1)))\n",
    "model.add(Dropout(0.2))\n",
    "model.add(LSTM(units=50, return_sequences=True))\n",
    "model.add(Dropout(0.2))\n",
    "model.add(LSTM(units=50, return_sequences=True))\n",
    "model.add(Dropout(0.2))\n",
    "model.add(LSTM(units=50))\n",
    "model.add(Dropout(0.2))\n",
    "model.add(Dense(units=1))\n",
    "model.compile(optimizer=adam, loss='mean_squared_error', metrics=['mean_squared_error'])\n",
    "training = model.fit(x_train, y_train, validation_split = 0.3, epochs=100, batch_size=32, callbacks=[model_checkpoint, early_stopping_monitor])"
   ]
  },
  {
   "cell_type": "markdown",
   "id": "precious-foundation",
   "metadata": {},
   "source": [
    "## 5. Визуализируем процесс обучения нейросети"
   ]
  },
  {
   "cell_type": "code",
   "execution_count": null,
   "id": "romantic-portsmouth",
   "metadata": {},
   "outputs": [],
   "source": [
    "sns.set()\n",
    "plt.rcParams['figure.figsize'] = (30, 10)\n",
    "train_val = plt.plot(training.history['loss'], label='train')\n",
    "valid_val = plt.plot(training.history['val_loss'], label='valid')\n",
    "plt.legend()\n",
    "plt.xlabel('epochs')\n",
    "plt.ylabel('loss')\n",
    "plt.show()"
   ]
  },
  {
   "cell_type": "code",
   "execution_count": null,
   "id": "regulated-atlas",
   "metadata": {},
   "outputs": [],
   "source": [
    "sns.set()\n",
    "plt.rcParams['figure.figsize'] = (30, 10)\n",
    "train_val = plt.plot(training.history['mean_squared_error'], label='train')\n",
    "valid_val = plt.plot(training.history['val_mean_squared_error'], label='valid')\n",
    "plt.legend()\n",
    "plt.xlabel('epochs')\n",
    "plt.ylabel('accuracy')\n",
    "plt.show()"
   ]
  },
  {
   "cell_type": "code",
   "execution_count": null,
   "id": "exceptional-median",
   "metadata": {},
   "outputs": [],
   "source": [
    "model.summary()"
   ]
  },
  {
   "cell_type": "markdown",
   "id": "advance-bathroom",
   "metadata": {},
   "source": [
    "## 6. Лучший показатель квадратичной ошибки"
   ]
  },
  {
   "cell_type": "code",
   "execution_count": null,
   "id": "living-mauritius",
   "metadata": {},
   "outputs": [],
   "source": [
    "min(training.history['mean_squared_error'])"
   ]
  },
  {
   "cell_type": "markdown",
   "id": "embedded-sector",
   "metadata": {},
   "source": [
    "## 7. Загрузим лучшую модель"
   ]
  },
  {
   "cell_type": "code",
   "execution_count": null,
   "id": "tutorial-reservoir",
   "metadata": {},
   "outputs": [],
   "source": [
    "model = load_model('model.hdf5')"
   ]
  },
  {
   "cell_type": "markdown",
   "id": "soviet-fraud",
   "metadata": {},
   "source": [
    "## 8. Подготовим тестовые данные"
   ]
  },
  {
   "cell_type": "code",
   "execution_count": null,
   "id": "historic-intake",
   "metadata": {},
   "outputs": [],
   "source": [
    "df_test = pd.read_csv('test.csv', delimiter=';', parse_dates=True)\n",
    "real_prices = df_test[['open']].values"
   ]
  },
  {
   "cell_type": "code",
   "execution_count": null,
   "id": "atmospheric-lawsuit",
   "metadata": {},
   "outputs": [],
   "source": [
    "df_full = pd.concat((df_train['open'], df_test['open']), axis=0)"
   ]
  },
  {
   "cell_type": "code",
   "execution_count": null,
   "id": "absolute-consciousness",
   "metadata": {},
   "outputs": [],
   "source": [
    "inputs = df_full[len(df_full) - len(df_test)-120:].values\n",
    "inputs = inputs.reshape(-1, 1)\n",
    "inputs = scaler.transform(inputs)"
   ]
  },
  {
   "cell_type": "code",
   "execution_count": null,
   "id": "varied-georgia",
   "metadata": {},
   "outputs": [],
   "source": [
    "length = len(inputs)"
   ]
  },
  {
   "cell_type": "code",
   "execution_count": null,
   "id": "persistent-certificate",
   "metadata": {},
   "outputs": [],
   "source": [
    "x_test = []"
   ]
  },
  {
   "cell_type": "code",
   "execution_count": null,
   "id": "guilty-exhibition",
   "metadata": {},
   "outputs": [],
   "source": [
    "for i in range(120, length):\n",
    "    x_test.append(inputs[i-120:i, 0])\n",
    "x_test = np.array(x_test)"
   ]
  },
  {
   "cell_type": "code",
   "execution_count": null,
   "id": "computational-wireless",
   "metadata": {},
   "outputs": [],
   "source": [
    "x_test = np.reshape(x_test, (x_test.shape[0], x_test.shape[1], 1))"
   ]
  },
  {
   "cell_type": "markdown",
   "id": "alleged-authority",
   "metadata": {},
   "source": [
    "## 9. Предскажем цены на тестовых данных"
   ]
  },
  {
   "cell_type": "code",
   "execution_count": null,
   "id": "figured-marble",
   "metadata": {},
   "outputs": [],
   "source": [
    "predicted = model.predict(x_test)"
   ]
  },
  {
   "cell_type": "code",
   "execution_count": null,
   "id": "lucky-integer",
   "metadata": {},
   "outputs": [],
   "source": [
    "predicted = scaler.inverse_transform(predicted)"
   ]
  },
  {
   "cell_type": "markdown",
   "id": "stable-underwear",
   "metadata": {},
   "source": [
    "## 10. Визуализируем результат и проверим метрику"
   ]
  },
  {
   "cell_type": "code",
   "execution_count": null,
   "id": "statistical-action",
   "metadata": {},
   "outputs": [],
   "source": [
    "sns.set(style='whitegrid')"
   ]
  },
  {
   "cell_type": "code",
   "execution_count": null,
   "id": "level-tourism",
   "metadata": {},
   "outputs": [],
   "source": [
    "sns.set(style='whitegrid')\n",
    "dims = (25, 10)\n",
    "fig, ax = plt.subplots(figsize=dims)\n",
    "plt.plot(real_prices, color='red', label='Реальная стоимость акций')\n",
    "plt.plot(predicted, color='blue', label='Предсказанная стоимость акций')\n",
    "plt.title('Прогноз стоимости акций Газпрома за период от 02.11.2020 до 23.01.2021')\n",
    "plt.xlabel('Дни')\n",
    "plt.ylabel('Цена')\n",
    "plt.legend()\n",
    "plt.show()"
   ]
  },
  {
   "cell_type": "code",
   "execution_count": null,
   "id": "basic-vault",
   "metadata": {},
   "outputs": [],
   "source": [
    "rmse = math.sqrt(mean_squared_error(real_prices, predicted))\n",
    "rmse"
   ]
  }
 ],
 "metadata": {
  "kernelspec": {
   "display_name": "Python 3",
   "language": "python",
   "name": "python3"
  },
  "language_info": {
   "codemirror_mode": {
    "name": "ipython",
    "version": 3
   },
   "file_extension": ".py",
   "mimetype": "text/x-python",
   "name": "python",
   "nbconvert_exporter": "python",
   "pygments_lexer": "ipython3",
   "version": "3.7.9"
  }
 },
 "nbformat": 4,
 "nbformat_minor": 5
}
